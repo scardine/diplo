{
 "cells": [
  {
   "cell_type": "code",
   "execution_count": 2,
   "metadata": {
    "collapsed": true
   },
   "outputs": [],
   "source": [
    "import pandas.rpy.common as com"
   ]
  },
  {
   "cell_type": "code",
   "execution_count": 16,
   "metadata": {
    "collapsed": false
   },
   "outputs": [
    {
     "name": "stdout",
     "output_type": "stream",
     "text": [
      "foreign::read.spss(\"RDSP Final (regioes de saude) - agregado.sav\", to.data.frame=TRUE)\n",
      "foreign::read.spss(\"RDSP Final (regioes de saude) p2 - agregado.sav\", to.data.frame=TRUE)\n",
      "foreign::read.spss(\"RDSP Final (regioes de saude) p2.sav\", to.data.frame=TRUE)\n",
      "foreign::read.spss(\"RDSP Final (regioes de saude).sav\", to.data.frame=TRUE)\n"
     ]
    }
   ],
   "source": [
    "from glob import glob\n",
    "\n",
    "dfs = {}\n",
    "\n",
    "for fname in glob(\"*.sav\"):\n",
    "    rcmd = 'foreign::read.spss(\"{}\", to.data.frame=TRUE)'.format(fname)\n",
    "    print rcmd\n",
    "    robj = com.robj.r(rcmd)\n",
    "    try:\n",
    "        dfs[fname] = com.convert_robj(robj)\n",
    "    except ValueError as e:\n",
    "        print e.message"
   ]
  },
  {
   "cell_type": "code",
   "execution_count": 19,
   "metadata": {
    "collapsed": false
   },
   "outputs": [
    {
     "name": "stdout",
     "output_type": "stream",
     "text": [
      "RDSP Final (regioes de saude).sav\n",
      "\tcomplex\n",
      "\tespec\n",
      "\tsubg_proc\n",
      "\tREGSAUDCOD_BID_res\n",
      "\tREGSAUDNOME_BID_res\n",
      "\tREGSAU_35011\n",
      "\tREGSAU_35012\n",
      "\tREGSAU_35013\n",
      "\tREGSAU_35014\n",
      "\tREGSAU_35015\n",
      "\tREGSAU_35016\n",
      "\tREGSAU_35021\n",
      "\tREGSAU_35022\n",
      "\tREGSAU_35023\n",
      "\tREGSAU_35031\n",
      "\tREGSAU_35032\n",
      "\tREGSAU_35033\n",
      "\tREGSAU_35034\n",
      "\tREGSAU_35041\n",
      "\tREGSAU_35051\n",
      "\tREGSAU_35052\n",
      "\tREGSAU_35061\n",
      "\tREGSAU_35062\n",
      "\tREGSAU_35063\n",
      "\tREGSAU_35064\n",
      "\tREGSAU_35065\n",
      "\tREGSAU_35071\n",
      "\tREGSAU_35072\n",
      "\tREGSAU_35073\n",
      "\tREGSAU_35074\n",
      "\tREGSAU_35081\n",
      "\tREGSAU_35082\n",
      "\tREGSAU_35083\n",
      "\tREGSAU_35091\n",
      "\tREGSAU_35092\n",
      "\tREGSAU_35093\n",
      "\tREGSAU_35094\n",
      "\tREGSAU_35095\n",
      "\tREGSAU_35101\n",
      "\tREGSAU_35102\n",
      "\tREGSAU_35103\n",
      "\tREGSAU_35104\n",
      "\tREGSAU_35111\n",
      "\tREGSAU_35112\n",
      "\tREGSAU_35113\n",
      "\tREGSAU_35114\n",
      "\tREGSAU_35115\n",
      "\tREGSAU_35121\n",
      "\tREGSAU_35131\n",
      "\tREGSAU_35132\n",
      "\tREGSAU_35133\n",
      "\tREGSAU_35141\n",
      "\tREGSAU_35142\n",
      "\tREGSAU_35143\n",
      "\tREGSAU_35151\n",
      "\tREGSAU_35152\n",
      "\tREGSAU_35153\n",
      "\tREGSAU_35154\n",
      "\tREGSAU_35155\n",
      "\tREGSAU_35156\n",
      "\tREGSAU_35157\n",
      "\tREGSAU_35161\n",
      "\tREGSAU_35162\n",
      "\tREGSAU_35163\n",
      "\tREGSAU_35171\n",
      "\tREGSAU_35172\n",
      "\tREGSAU_35173\n",
      "\tREGSAU_35174\n",
      "\tmesma_reg\n",
      "\tTotal_de_casos\n",
      "\tindice_dep\n",
      "RDSP Final (regioes de saude) - agregado.sav\n",
      "\tcomplex\n",
      "\tespec\n",
      "\tREGSAUDCOD_BID_res\n",
      "\tREGSAUDNOME_BID_res\n",
      "\tmesma_reg\n",
      "\tTotal_de_casos\n",
      "\tindice_dep\n",
      "RDSP Final (regioes de saude) p2.sav\n",
      "\tcomplex\n",
      "\tespec2\n",
      "\tsubg_proc\n",
      "\tREGSAUDCOD_BID_res\n",
      "\tREGSAUDNOME_BID_res\n",
      "\tREGSAU_35011\n",
      "\tREGSAU_35012\n",
      "\tREGSAU_35013\n",
      "\tREGSAU_35014\n",
      "\tREGSAU_35015\n",
      "\tREGSAU_35016\n",
      "\tREGSAU_35021\n",
      "\tREGSAU_35022\n",
      "\tREGSAU_35023\n",
      "\tREGSAU_35031\n",
      "\tREGSAU_35032\n",
      "\tREGSAU_35033\n",
      "\tREGSAU_35034\n",
      "\tREGSAU_35041\n",
      "\tREGSAU_35051\n",
      "\tREGSAU_35052\n",
      "\tREGSAU_35061\n",
      "\tREGSAU_35062\n",
      "\tREGSAU_35063\n",
      "\tREGSAU_35064\n",
      "\tREGSAU_35065\n",
      "\tREGSAU_35071\n",
      "\tREGSAU_35072\n",
      "\tREGSAU_35073\n",
      "\tREGSAU_35074\n",
      "\tREGSAU_35081\n",
      "\tREGSAU_35082\n",
      "\tREGSAU_35083\n",
      "\tREGSAU_35091\n",
      "\tREGSAU_35092\n",
      "\tREGSAU_35093\n",
      "\tREGSAU_35094\n",
      "\tREGSAU_35095\n",
      "\tREGSAU_35101\n",
      "\tREGSAU_35102\n",
      "\tREGSAU_35103\n",
      "\tREGSAU_35104\n",
      "\tREGSAU_35111\n",
      "\tREGSAU_35112\n",
      "\tREGSAU_35113\n",
      "\tREGSAU_35114\n",
      "\tREGSAU_35115\n",
      "\tREGSAU_35121\n",
      "\tREGSAU_35131\n",
      "\tREGSAU_35132\n",
      "\tREGSAU_35133\n",
      "\tREGSAU_35141\n",
      "\tREGSAU_35142\n",
      "\tREGSAU_35143\n",
      "\tREGSAU_35151\n",
      "\tREGSAU_35152\n",
      "\tREGSAU_35153\n",
      "\tREGSAU_35154\n",
      "\tREGSAU_35155\n",
      "\tREGSAU_35156\n",
      "\tREGSAU_35157\n",
      "\tREGSAU_35161\n",
      "\tREGSAU_35162\n",
      "\tREGSAU_35163\n",
      "\tREGSAU_35171\n",
      "\tREGSAU_35172\n",
      "\tREGSAU_35173\n",
      "\tREGSAU_35174\n",
      "\tmesma_reg\n",
      "\tTotal_de_casos\n",
      "\tindice_dep\n",
      "RDSP Final (regioes de saude) p2 - agregado.sav\n",
      "\tcomplex\n",
      "\tespec2\n",
      "\tREGSAUDCOD_BID_res\n",
      "\tREGSAUDNOME_BID_res\n",
      "\tmesma_reg\n",
      "\tTotal_de_casos\n",
      "\tindice_dep\n"
     ]
    }
   ],
   "source": [
    "for fname, df in dfs.items():\n",
    "    print fname\n",
    "    for c in df.columns:\n",
    "        print \"\\t\", c"
   ]
  },
  {
   "cell_type": "code",
   "execution_count": 5,
   "metadata": {
    "collapsed": false
   },
   "outputs": [
    {
     "data": {
      "text/plain": [
       "Index([u'complex', u'espec', u'REGSAUDCOD_BID_res', u'REGSAUDNOME_BID_res',\n",
       "       u'mesma_reg', u'Total_de_casos', u'indice_dep'],\n",
       "      dtype='object')"
      ]
     },
     "execution_count": 5,
     "metadata": {},
     "output_type": "execute_result"
    }
   ],
   "source": [
    "df.columns"
   ]
  },
  {
   "cell_type": "code",
   "execution_count": 7,
   "metadata": {
    "collapsed": false
   },
   "outputs": [
    {
     "name": "stdout",
     "output_type": "stream",
     "text": [
      "complex, espec, REGSAUDCOD_BID_res, REGSAUDNOME_BID_res, mesma_reg, Total_de_casos, indice_dep\n"
     ]
    }
   ],
   "source": [
    "print \", \".join([u'complex', u'espec', u'REGSAUDCOD_BID_res', u'REGSAUDNOME_BID_res',\n",
    "       u'mesma_reg', u'Total_de_casos', u'indice_dep'])"
   ]
  },
  {
   "cell_type": "code",
   "execution_count": null,
   "metadata": {
    "collapsed": true
   },
   "outputs": [],
   "source": [
    ""
   ]
  }
 ],
 "metadata": {
  "kernelspec": {
   "display_name": "Python 2",
   "language": "python",
   "name": "python2"
  },
  "language_info": {
   "codemirror_mode": {
    "name": "ipython",
    "version": 2.0
   },
   "file_extension": ".py",
   "mimetype": "text/x-python",
   "name": "python",
   "nbconvert_exporter": "python",
   "pygments_lexer": "ipython2",
   "version": "2.7.10"
  }
 },
 "nbformat": 4,
 "nbformat_minor": 0
}