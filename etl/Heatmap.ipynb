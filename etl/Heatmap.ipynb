{
 "cells": [
  {
   "cell_type": "code",
   "execution_count": 1,
   "metadata": {
    "collapsed": true
   },
   "outputs": [],
   "source": [
    "import sys, os\n",
    "sys.path.append('/Users/paulos/Documents/work/diplo')\n",
    "os.environ['DJANGO_SETTINGS_MODULE'] = 'diplo.settings'\n",
    "\n",
    "from django.core.wsgi import get_wsgi_application\n",
    "application = get_wsgi_application()"
   ]
  },
  {
   "cell_type": "code",
   "execution_count": null,
   "metadata": {
    "collapsed": true
   },
   "outputs": [],
   "source": [
    "import seaborn as sns\n"
   ]
  },
  {
   "cell_type": "code",
   "execution_count": 2,
   "metadata": {
    "collapsed": true
   },
   "outputs": [],
   "source": [
    "from data.models import *"
   ]
  },
  {
   "cell_type": "code",
   "execution_count": 3,
   "metadata": {
    "collapsed": true
   },
   "outputs": [],
   "source": [
    "f = IndicadorFluxo.objects.first()"
   ]
  },
  {
   "cell_type": "code",
   "execution_count": 4,
   "metadata": {
    "collapsed": false
   },
   "outputs": [],
   "source": [
    "from django_pandas.io import read_frame\n",
    "df = read_frame(f.dadofluxo_set.all())"
   ]
  },
  {
   "cell_type": "code",
   "execution_count": null,
   "metadata": {
    "collapsed": false
   },
   "outputs": [],
   "source": [
    "df.pivot(index='origem', columns='destino', values='valor')"
   ]
  },
  {
   "cell_type": "code",
   "execution_count": null,
   "metadata": {
    "collapsed": false
   },
   "outputs": [],
   "source": [
    "df.pivot(index='destino', columns='origem', values='valor')"
   ]
  },
  {
   "cell_type": "code",
   "execution_count": null,
   "metadata": {
    "collapsed": false
   },
   "outputs": [],
   "source": [
    "DadoFluxo.objects.first().origem.tipo"
   ]
  },
  {
   "cell_type": "code",
   "execution_count": null,
   "metadata": {
    "collapsed": false
   },
   "outputs": [],
   "source": [
    "for o in Localidade.objects.filter(tipo='regsau'):\n",
    "    for d in Localidade.objects.filter(tipo='regsau'):\n",
    "        for i in IndicadorFluxo.objects.all():\n",
    "            if DadoFluxo.objects.filter(origem=o, destino=d, indicador=i).count() == 0:\n",
    "                DadoFluxo.objects.create(origem=o, destino=d, indicador=i, ano=2016)"
   ]
  },
  {
   "cell_type": "code",
   "execution_count": null,
   "metadata": {
    "collapsed": false
   },
   "outputs": [],
   "source": [
    "DadoFluxo.objects.first().__dict__"
   ]
  },
  {
   "cell_type": "code",
   "execution_count": 13,
   "metadata": {
    "collapsed": false
   },
   "outputs": [
    {
     "data": {
      "text/html": [
       "\n",
       "    <div class=\"bk-root\">\n",
       "        <a href=\"http://bokeh.pydata.org\" target=\"_blank\" class=\"bk-logo bk-logo-small bk-logo-notebook\"></a>\n",
       "        <span id=\"8f622843-000e-45eb-84ad-cab7e094c5eb\">Loading BokehJS ...</span>\n",
       "    </div>"
      ]
     },
     "metadata": {},
     "output_type": "display_data"
    },
    {
     "data": {
      "application/javascript": [
       "\n",
       "(function(global) {\n",
       "  function now() {\n",
       "    return new Date();\n",
       "  }\n",
       "\n",
       "  var force = \"1\";\n",
       "\n",
       "  if (typeof (window._bokeh_onload_callbacks) === \"undefined\" || force !== \"\") {\n",
       "    window._bokeh_onload_callbacks = [];\n",
       "    window._bokeh_is_loading = undefined;\n",
       "  }\n",
       "\n",
       "\n",
       "  \n",
       "  if (typeof (window._bokeh_timeout) === \"undefined\" || force !== \"\") {\n",
       "    window._bokeh_timeout = Date.now() + 5000;\n",
       "    window._bokeh_failed_load = false;\n",
       "  }\n",
       "\n",
       "  var NB_LOAD_WARNING = {'data': {'text/html':\n",
       "     \"<div style='background-color: #fdd'>\\n\"+\n",
       "     \"<p>\\n\"+\n",
       "     \"BokehJS does not appear to have successfully loaded. If loading BokehJS from CDN, this \\n\"+\n",
       "     \"may be due to a slow or bad network connection. Possible fixes:\\n\"+\n",
       "     \"</p>\\n\"+\n",
       "     \"<ul>\\n\"+\n",
       "     \"<li>re-rerun `output_notebook()` to attempt to load from CDN again, or</li>\\n\"+\n",
       "     \"<li>use INLINE resources instead, as so:</li>\\n\"+\n",
       "     \"</ul>\\n\"+\n",
       "     \"<code>\\n\"+\n",
       "     \"from bokeh.resources import INLINE\\n\"+\n",
       "     \"output_notebook(resources=INLINE)\\n\"+\n",
       "     \"</code>\\n\"+\n",
       "     \"</div>\"}};\n",
       "\n",
       "  function display_loaded() {\n",
       "    if (window.Bokeh !== undefined) {\n",
       "      Bokeh.$(\"#8f622843-000e-45eb-84ad-cab7e094c5eb\").text(\"BokehJS successfully loaded.\");\n",
       "    } else if (Date.now() < window._bokeh_timeout) {\n",
       "      setTimeout(display_loaded, 100)\n",
       "    }\n",
       "  }\n",
       "\n",
       "  function run_callbacks() {\n",
       "    window._bokeh_onload_callbacks.forEach(function(callback) { callback() });\n",
       "    delete window._bokeh_onload_callbacks\n",
       "    console.info(\"Bokeh: all callbacks have finished\");\n",
       "  }\n",
       "\n",
       "  function load_libs(js_urls, callback) {\n",
       "    window._bokeh_onload_callbacks.push(callback);\n",
       "    if (window._bokeh_is_loading > 0) {\n",
       "      console.log(\"Bokeh: BokehJS is being loaded, scheduling callback at\", now());\n",
       "      return null;\n",
       "    }\n",
       "    if (js_urls == null || js_urls.length === 0) {\n",
       "      run_callbacks();\n",
       "      return null;\n",
       "    }\n",
       "    console.log(\"Bokeh: BokehJS not loaded, scheduling load and callback at\", now());\n",
       "    window._bokeh_is_loading = js_urls.length;\n",
       "    for (var i = 0; i < js_urls.length; i++) {\n",
       "      var url = js_urls[i];\n",
       "      var s = document.createElement('script');\n",
       "      s.src = url;\n",
       "      s.async = false;\n",
       "      s.onreadystatechange = s.onload = function() {\n",
       "        window._bokeh_is_loading--;\n",
       "        if (window._bokeh_is_loading === 0) {\n",
       "          console.log(\"Bokeh: all BokehJS libraries loaded\");\n",
       "          run_callbacks()\n",
       "        }\n",
       "      };\n",
       "      s.onerror = function() {\n",
       "        console.warn(\"failed to load library \" + url);\n",
       "      };\n",
       "      console.log(\"Bokeh: injecting script tag for BokehJS library: \", url);\n",
       "      document.getElementsByTagName(\"head\")[0].appendChild(s);\n",
       "    }\n",
       "  };var element = document.getElementById(\"8f622843-000e-45eb-84ad-cab7e094c5eb\");\n",
       "  if (element == null) {\n",
       "    console.log(\"Bokeh: ERROR: autoload.js configured with elementid '8f622843-000e-45eb-84ad-cab7e094c5eb' but no matching script tag was found. \")\n",
       "    return false;\n",
       "  }\n",
       "\n",
       "  var js_urls = ['https://cdn.pydata.org/bokeh/release/bokeh-0.12.3.min.js', 'https://cdn.pydata.org/bokeh/release/bokeh-widgets-0.12.3.min.js'];\n",
       "\n",
       "  var inline_js = [\n",
       "    function(Bokeh) {\n",
       "      Bokeh.set_log_level(\"info\");\n",
       "    },\n",
       "    \n",
       "    function(Bokeh) {\n",
       "      \n",
       "      Bokeh.$(\"#8f622843-000e-45eb-84ad-cab7e094c5eb\").text(\"BokehJS is loading...\");\n",
       "    },\n",
       "    function(Bokeh) {\n",
       "      console.log(\"Bokeh: injecting CSS: https://cdn.pydata.org/bokeh/release/bokeh-0.12.3.min.css\");\n",
       "      Bokeh.embed.inject_css(\"https://cdn.pydata.org/bokeh/release/bokeh-0.12.3.min.css\");\n",
       "      console.log(\"Bokeh: injecting CSS: https://cdn.pydata.org/bokeh/release/bokeh-widgets-0.12.3.min.css\");\n",
       "      Bokeh.embed.inject_css(\"https://cdn.pydata.org/bokeh/release/bokeh-widgets-0.12.3.min.css\");\n",
       "    }\n",
       "  ];\n",
       "\n",
       "  function run_inline_js() {\n",
       "    \n",
       "    if ((window.Bokeh !== undefined) || (force === \"1\")) {\n",
       "      for (var i = 0; i < inline_js.length; i++) {\n",
       "        inline_js[i](window.Bokeh);\n",
       "      }if (force === \"1\") {\n",
       "        display_loaded();\n",
       "      }} else if (Date.now() < window._bokeh_timeout) {\n",
       "      setTimeout(run_inline_js, 100);\n",
       "    } else if (!window._bokeh_failed_load) {\n",
       "      console.log(\"Bokeh: BokehJS failed to load within specified timeout.\");\n",
       "      window._bokeh_failed_load = true;\n",
       "    } else if (!force) {\n",
       "      var cell = $(\"#8f622843-000e-45eb-84ad-cab7e094c5eb\").parents('.cell').data().cell;\n",
       "      cell.output_area.append_execute_result(NB_LOAD_WARNING)\n",
       "    }\n",
       "\n",
       "  }\n",
       "\n",
       "  if (window._bokeh_is_loading === 0) {\n",
       "    console.log(\"Bokeh: BokehJS loaded, going straight to plotting\");\n",
       "    run_inline_js();\n",
       "  } else {\n",
       "    load_libs(js_urls, function() {\n",
       "      console.log(\"Bokeh: BokehJS plotting callback run at\", now());\n",
       "      run_inline_js();\n",
       "    });\n",
       "  }\n",
       "}(this));"
      ]
     },
     "metadata": {},
     "output_type": "display_data"
    }
   ],
   "source": [
    "from bokeh.io import output_notebook, show\n",
    "output_notebook()"
   ]
  },
  {
   "cell_type": "code",
   "execution_count": 7,
   "metadata": {
    "collapsed": true
   },
   "outputs": [],
   "source": [
    "from bokeh.charts import HeatMap"
   ]
  },
  {
   "cell_type": "code",
   "execution_count": 22,
   "metadata": {
    "collapsed": false
   },
   "outputs": [],
   "source": [
    "p = HeatMap(df, x='origem', y='destino', values='valor', sort_dim={'x': True, 'y': True}, stat=None, width=900, plot_height=900)"
   ]
  },
  {
   "cell_type": "code",
   "execution_count": 10,
   "metadata": {
    "collapsed": true
   },
   "outputs": [],
   "source": [
    "df.valor = df.valor.astype(float)"
   ]
  },
  {
   "cell_type": "code",
   "execution_count": 23,
   "metadata": {
    "collapsed": false
   },
   "outputs": [
    {
     "data": {
      "text/html": [
       "\n",
       "\n",
       "    <div class=\"bk-root\">\n",
       "        <div class=\"plotdiv\" id=\"acdb8d98-2a1b-43f6-bd80-f13fa36b3af5\"></div>\n",
       "    </div>\n",
       "<script type=\"text/javascript\">\n",
       "  \n",
       "  (function(global) {\n",
       "    function now() {\n",
       "      return new Date();\n",
       "    }\n",
       "  \n",
       "    var force = \"\";\n",
       "  \n",
       "    if (typeof (window._bokeh_onload_callbacks) === \"undefined\" || force !== \"\") {\n",
       "      window._bokeh_onload_callbacks = [];\n",
       "      window._bokeh_is_loading = undefined;\n",
       "    }\n",
       "  \n",
       "  \n",
       "    \n",
       "    if (typeof (window._bokeh_timeout) === \"undefined\" || force !== \"\") {\n",
       "      window._bokeh_timeout = Date.now() + 0;\n",
       "      window._bokeh_failed_load = false;\n",
       "    }\n",
       "  \n",
       "    var NB_LOAD_WARNING = {'data': {'text/html':\n",
       "       \"<div style='background-color: #fdd'>\\n\"+\n",
       "       \"<p>\\n\"+\n",
       "       \"BokehJS does not appear to have successfully loaded. If loading BokehJS from CDN, this \\n\"+\n",
       "       \"may be due to a slow or bad network connection. Possible fixes:\\n\"+\n",
       "       \"</p>\\n\"+\n",
       "       \"<ul>\\n\"+\n",
       "       \"<li>re-rerun `output_notebook()` to attempt to load from CDN again, or</li>\\n\"+\n",
       "       \"<li>use INLINE resources instead, as so:</li>\\n\"+\n",
       "       \"</ul>\\n\"+\n",
       "       \"<code>\\n\"+\n",
       "       \"from bokeh.resources import INLINE\\n\"+\n",
       "       \"output_notebook(resources=INLINE)\\n\"+\n",
       "       \"</code>\\n\"+\n",
       "       \"</div>\"}};\n",
       "  \n",
       "    function display_loaded() {\n",
       "      if (window.Bokeh !== undefined) {\n",
       "        Bokeh.$(\"#acdb8d98-2a1b-43f6-bd80-f13fa36b3af5\").text(\"BokehJS successfully loaded.\");\n",
       "      } else if (Date.now() < window._bokeh_timeout) {\n",
       "        setTimeout(display_loaded, 100)\n",
       "      }\n",
       "    }\n",
       "  \n",
       "    function run_callbacks() {\n",
       "      window._bokeh_onload_callbacks.forEach(function(callback) { callback() });\n",
       "      delete window._bokeh_onload_callbacks\n",
       "      console.info(\"Bokeh: all callbacks have finished\");\n",
       "    }\n",
       "  \n",
       "    function load_libs(js_urls, callback) {\n",
       "      window._bokeh_onload_callbacks.push(callback);\n",
       "      if (window._bokeh_is_loading > 0) {\n",
       "        console.log(\"Bokeh: BokehJS is being loaded, scheduling callback at\", now());\n",
       "        return null;\n",
       "      }\n",
       "      if (js_urls == null || js_urls.length === 0) {\n",
       "        run_callbacks();\n",
       "        return null;\n",
       "      }\n",
       "      console.log(\"Bokeh: BokehJS not loaded, scheduling load and callback at\", now());\n",
       "      window._bokeh_is_loading = js_urls.length;\n",
       "      for (var i = 0; i < js_urls.length; i++) {\n",
       "        var url = js_urls[i];\n",
       "        var s = document.createElement('script');\n",
       "        s.src = url;\n",
       "        s.async = false;\n",
       "        s.onreadystatechange = s.onload = function() {\n",
       "          window._bokeh_is_loading--;\n",
       "          if (window._bokeh_is_loading === 0) {\n",
       "            console.log(\"Bokeh: all BokehJS libraries loaded\");\n",
       "            run_callbacks()\n",
       "          }\n",
       "        };\n",
       "        s.onerror = function() {\n",
       "          console.warn(\"failed to load library \" + url);\n",
       "        };\n",
       "        console.log(\"Bokeh: injecting script tag for BokehJS library: \", url);\n",
       "        document.getElementsByTagName(\"head\")[0].appendChild(s);\n",
       "      }\n",
       "    };var element = document.getElementById(\"acdb8d98-2a1b-43f6-bd80-f13fa36b3af5\");\n",
       "    if (element == null) {\n",
       "      console.log(\"Bokeh: ERROR: autoload.js configured with elementid 'acdb8d98-2a1b-43f6-bd80-f13fa36b3af5' but no matching script tag was found. \")\n",
       "      return false;\n",
       "    }\n",
       "  \n",
       "    var js_urls = [];\n",
       "  \n",
       "    var inline_js = [\n",
       "      function(Bokeh) {\n",
       "        Bokeh.$(function() {\n",
       "            var docs_json = {\"39e7dd5e-4a1e-4550-90ca-c8d2e1ed9aaa\":{\"roots\":{\"references\":[{\"attributes\":{\"plot\":{\"id\":\"a95d229c-f0db-419d-b993-3dc979342261\",\"subtype\":\"Chart\",\"type\":\"Plot\"}},\"id\":\"9e2f2236-eb7f-4e8f-928c-91103d5edf99\",\"type\":\"SaveTool\"},{\"attributes\":{\"dilate\":true,\"fill_color\":{\"value\":\"#3182bd\"},\"height\":{\"units\":\"data\",\"value\":0.95},\"line_color\":{\"value\":\"#3182bd\"},\"width\":{\"units\":\"data\",\"value\":0.95},\"x\":{\"field\":\"x\"},\"y\":{\"field\":\"y\"}},\"id\":\"cec0b8d0-4452-41ed-9501-06b03235e017\",\"type\":\"Rect\"},{\"attributes\":{\"label\":{\"value\":\"(328.5, 394]\"},\"renderers\":[{\"id\":\"b013472e-b752-4155-880d-64103e8ea981\",\"type\":\"GlyphRenderer\"}]},\"id\":\"514c47a3-9689-4a38-bd48-e733aca24463\",\"type\":\"LegendItem\"},{\"attributes\":{},\"id\":\"b5e01eba-e37d-4add-a884-1e61245ddcc0\",\"type\":\"ToolEvents\"},{\"attributes\":{\"overlay\":{\"id\":\"ea6be5da-bd60-466d-8b1b-fbba8a449afe\",\"type\":\"BoxAnnotation\"},\"plot\":{\"id\":\"a95d229c-f0db-419d-b993-3dc979342261\",\"subtype\":\"Chart\",\"type\":\"Plot\"}},\"id\":\"c58b5383-1535-401d-8eda-89ccafc92d99\",\"type\":\"BoxZoomTool\"},{\"attributes\":{\"active_drag\":\"auto\",\"active_scroll\":\"auto\",\"active_tap\":\"auto\",\"tools\":[{\"id\":\"7f51851b-d062-4b90-afd2-ae199ff5c4fa\",\"type\":\"PanTool\"},{\"id\":\"116a90c5-bc89-4b1c-bbc0-63ba432ce55e\",\"type\":\"WheelZoomTool\"},{\"id\":\"c58b5383-1535-401d-8eda-89ccafc92d99\",\"type\":\"BoxZoomTool\"},{\"id\":\"9e2f2236-eb7f-4e8f-928c-91103d5edf99\",\"type\":\"SaveTool\"},{\"id\":\"fcbe0ad7-0afc-4be9-8676-6a1cd9b62401\",\"type\":\"ResetTool\"},{\"id\":\"c255eacb-37ea-400d-a0f8-90b1c45f2496\",\"type\":\"HelpTool\"}]},\"id\":\"b7104afb-d4a9-4271-b1dd-4dc96026ca17\",\"type\":\"Toolbar\"},{\"attributes\":{\"callback\":null,\"factors\":[\"Alto do Tiet\\u00ea\",\"Baixada Santista\",\"Central do DRS II\",\"Central do DRS III\",\"Centro Oeste do DRS III\",\"Cons\\u00f3rcios do DRS II\",\"Franco da Rocha\",\"Grande ABC\",\"Lagos do DRS II\",\"Mananciais\",\"Norte - Barretos\",\"Norte do DRS III\",\"Rota dos Bandeirantes\",\"Sul - Barretos\",\"S\\u00e3o Paulo\",\"Vale do Jurumirim\"]},\"id\":\"495e0503-62c3-4ca0-ae77-e1ba2da047b0\",\"type\":\"FactorRange\"},{\"attributes\":{\"label\":{\"value\":\"[0.6, 66.5]\"},\"renderers\":[{\"id\":\"9311c6b9-6301-4b38-9fcf-49d8e53eb462\",\"type\":\"GlyphRenderer\"}]},\"id\":\"10de5f9a-5670-4800-a0da-90d0a1e8e29f\",\"type\":\"LegendItem\"},{\"attributes\":{\"axis_label\":\"destino\",\"formatter\":{\"id\":\"2a29570f-fabf-4f8f-9010-f8d57c6b6574\",\"type\":\"CategoricalTickFormatter\"},\"major_label_orientation\":0.7853981633974483,\"plot\":{\"id\":\"a95d229c-f0db-419d-b993-3dc979342261\",\"subtype\":\"Chart\",\"type\":\"Plot\"},\"ticker\":{\"id\":\"5e85a18b-0838-4365-b815-7c44f0a2701c\",\"type\":\"CategoricalTicker\"}},\"id\":\"4476cd8a-0e68-4e2f-b91e-52ad0ae4e1b0\",\"type\":\"CategoricalAxis\"},{\"attributes\":{\"callback\":null,\"column_names\":[\"y\",\"x\",\"values\"],\"data\":{\"chart_index\":[{\"valor\":\"(328.5, 394]\"}],\"valor\":[\"(328.5, 394]\"],\"values\":[394.0],\"x\":[\"S\\u00e3o Paulo\"],\"y\":[\"S\\u00e3o Paulo\"]}},\"id\":\"d33d6791-2116-4329-93da-3d9e74620439\",\"type\":\"ColumnDataSource\"},{\"attributes\":{\"callback\":null,\"factors\":[\"Alta Sorocabana\",\"Alto Vale do Para\\u00edba\",\"Alto do Tiet\\u00ea\",\"Baixada Santista\",\"Central do DRS II\",\"Central do DRS III\",\"Franco da Rocha\",\"Grande ABC\",\"Jundia\\u00ed\",\"Mananciais\",\"Norte - Barretos\",\"Polo Cuesta\",\"Rota dos Bandeirantes\",\"Sorocaba\",\"Sul - Barretos\",\"S\\u00e3o Jos\\u00e9 do Rio Preto\",\"S\\u00e3o Paulo\",\"Votuporanga\"]},\"id\":\"27af5567-f061-47f6-a3b1-333d8de2af78\",\"type\":\"FactorRange\"},{\"attributes\":{\"data_source\":{\"id\":\"af02035f-f536-4d8f-a2c0-e7be6500a93c\",\"type\":\"ColumnDataSource\"},\"glyph\":{\"id\":\"cec0b8d0-4452-41ed-9501-06b03235e017\",\"type\":\"Rect\"},\"hover_glyph\":null,\"nonselection_glyph\":null,\"selection_glyph\":null},\"id\":\"9311c6b9-6301-4b38-9fcf-49d8e53eb462\",\"type\":\"GlyphRenderer\"},{\"attributes\":{\"plot\":{\"id\":\"a95d229c-f0db-419d-b993-3dc979342261\",\"subtype\":\"Chart\",\"type\":\"Plot\"}},\"id\":\"7f51851b-d062-4b90-afd2-ae199ff5c4fa\",\"type\":\"PanTool\"},{\"attributes\":{\"bottom_units\":\"screen\",\"fill_alpha\":{\"value\":0.5},\"fill_color\":{\"value\":\"lightgrey\"},\"left_units\":\"screen\",\"level\":\"overlay\",\"line_alpha\":{\"value\":1.0},\"line_color\":{\"value\":\"black\"},\"line_dash\":[4,4],\"line_width\":{\"value\":2},\"plot\":null,\"render_mode\":\"css\",\"right_units\":\"screen\",\"top_units\":\"screen\"},\"id\":\"ea6be5da-bd60-466d-8b1b-fbba8a449afe\",\"type\":\"BoxAnnotation\"},{\"attributes\":{\"axis_label\":\"origem\",\"formatter\":{\"id\":\"498cf958-5c74-485d-a7a8-07a83bab9f31\",\"type\":\"CategoricalTickFormatter\"},\"major_label_orientation\":0.7853981633974483,\"plot\":{\"id\":\"a95d229c-f0db-419d-b993-3dc979342261\",\"subtype\":\"Chart\",\"type\":\"Plot\"},\"ticker\":{\"id\":\"272510e8-8ddd-4f30-b2ef-cf83455283fe\",\"type\":\"CategoricalTicker\"}},\"id\":\"a5c24d4a-79e8-4be2-89d2-9eed70a7eb1a\",\"type\":\"CategoricalAxis\"},{\"attributes\":{\"plot\":null,\"text\":null},\"id\":\"49139f00-cb91-4cde-a97b-a2030cd1eb02\",\"type\":\"Title\"},{\"attributes\":{\"data_source\":{\"id\":\"d33d6791-2116-4329-93da-3d9e74620439\",\"type\":\"ColumnDataSource\"},\"glyph\":{\"id\":\"6f69e744-9010-442d-9ee5-3df1076ee644\",\"type\":\"Rect\"},\"hover_glyph\":null,\"nonselection_glyph\":null,\"selection_glyph\":null},\"id\":\"b013472e-b752-4155-880d-64103e8ea981\",\"type\":\"GlyphRenderer\"},{\"attributes\":{},\"id\":\"2a29570f-fabf-4f8f-9010-f8d57c6b6574\",\"type\":\"CategoricalTickFormatter\"},{\"attributes\":{\"plot\":{\"id\":\"a95d229c-f0db-419d-b993-3dc979342261\",\"subtype\":\"Chart\",\"type\":\"Plot\"}},\"id\":\"fcbe0ad7-0afc-4be9-8676-6a1cd9b62401\",\"type\":\"ResetTool\"},{\"attributes\":{\"callback\":null,\"column_names\":[\"y\",\"x\",\"values\"],\"data\":{\"chart_index\":[{\"valor\":\"[0.6, 66.5]\"},{\"valor\":\"[0.6, 66.5]\"},{\"valor\":\"[0.6, 66.5]\"},{\"valor\":\"[0.6, 66.5]\"},{\"valor\":\"[0.6, 66.5]\"},{\"valor\":\"[0.6, 66.5]\"},{\"valor\":\"[0.6, 66.5]\"},{\"valor\":\"[0.6, 66.5]\"},{\"valor\":\"[0.6, 66.5]\"},{\"valor\":\"[0.6, 66.5]\"},{\"valor\":\"[0.6, 66.5]\"},{\"valor\":\"[0.6, 66.5]\"},{\"valor\":\"[0.6, 66.5]\"},{\"valor\":\"[0.6, 66.5]\"},{\"valor\":\"[0.6, 66.5]\"},{\"valor\":\"[0.6, 66.5]\"},{\"valor\":\"[0.6, 66.5]\"},{\"valor\":\"[0.6, 66.5]\"},{\"valor\":\"[0.6, 66.5]\"},{\"valor\":\"[0.6, 66.5]\"},{\"valor\":\"[0.6, 66.5]\"},{\"valor\":\"[0.6, 66.5]\"},{\"valor\":\"[0.6, 66.5]\"},{\"valor\":\"[0.6, 66.5]\"},{\"valor\":\"[0.6, 66.5]\"},{\"valor\":\"[0.6, 66.5]\"},{\"valor\":\"[0.6, 66.5]\"},{\"valor\":\"[0.6, 66.5]\"},{\"valor\":\"[0.6, 66.5]\"}],\"valor\":[\"[0.6, 66.5]\",\"[0.6, 66.5]\",\"[0.6, 66.5]\",\"[0.6, 66.5]\",\"[0.6, 66.5]\",\"[0.6, 66.5]\",\"[0.6, 66.5]\",\"[0.6, 66.5]\",\"[0.6, 66.5]\",\"[0.6, 66.5]\",\"[0.6, 66.5]\",\"[0.6, 66.5]\",\"[0.6, 66.5]\",\"[0.6, 66.5]\",\"[0.6, 66.5]\",\"[0.6, 66.5]\",\"[0.6, 66.5]\",\"[0.6, 66.5]\",\"[0.6, 66.5]\",\"[0.6, 66.5]\",\"[0.6, 66.5]\",\"[0.6, 66.5]\",\"[0.6, 66.5]\",\"[0.6, 66.5]\",\"[0.6, 66.5]\",\"[0.6, 66.5]\",\"[0.6, 66.5]\",\"[0.6, 66.5]\",\"[0.6, 66.5]\"],\"values\":[7.0,15.0,1.0,1.0,1.0,6.0,1.0,3.0,1.0,1.0,29.0,5.0,51.0,2.0,3.0,48.0,41.0,1.0,5.0,1.0,8.0,6.0,2.0,1.0,2.0,7.0,13.0,2.0,3.0],\"x\":[\"Vale do Jurumirim\",\"Norte - Barretos\",\"Norte - Barretos\",\"Cons\\u00f3rcios do DRS II\",\"Cons\\u00f3rcios do DRS II\",\"Central do DRS III\",\"Lagos do DRS II\",\"Central do DRS II\",\"Central do DRS II\",\"Alto do Tiet\\u00ea\",\"Alto do Tiet\\u00ea\",\"Alto do Tiet\\u00ea\",\"Rota dos Bandeirantes\",\"Rota dos Bandeirantes\",\"Sul - Barretos\",\"Sul - Barretos\",\"Baixada Santista\",\"Baixada Santista\",\"Baixada Santista\",\"Centro Oeste do DRS III\",\"Franco da Rocha\",\"Franco da Rocha\",\"Franco da Rocha\",\"Norte do DRS III\",\"Mananciais\",\"Mananciais\",\"Grande ABC\",\"S\\u00e3o Paulo\",\"S\\u00e3o Paulo\"],\"y\":[\"Polo Cuesta\",\"Norte - Barretos\",\"S\\u00e3o Jos\\u00e9 do Rio Preto\",\"Alta Sorocabana\",\"S\\u00e3o Jos\\u00e9 do Rio Preto\",\"Central do DRS III\",\"Votuporanga\",\"Central do DRS II\",\"S\\u00e3o Jos\\u00e9 do Rio Preto\",\"Sorocaba\",\"Alto do Tiet\\u00ea\",\"S\\u00e3o Paulo\",\"Rota dos Bandeirantes\",\"S\\u00e3o Paulo\",\"Norte - Barretos\",\"Sul - Barretos\",\"Baixada Santista\",\"Alto Vale do Para\\u00edba\",\"S\\u00e3o Paulo\",\"Polo Cuesta\",\"Jundia\\u00ed\",\"Franco da Rocha\",\"S\\u00e3o Paulo\",\"Central do DRS III\",\"Mananciais\",\"S\\u00e3o Paulo\",\"Grande ABC\",\"Alto do Tiet\\u00ea\",\"Grande ABC\"]}},\"id\":\"af02035f-f536-4d8f-a2c0-e7be6500a93c\",\"type\":\"ColumnDataSource\"},{\"attributes\":{\"plot\":{\"id\":\"a95d229c-f0db-419d-b993-3dc979342261\",\"subtype\":\"Chart\",\"type\":\"Plot\"}},\"id\":\"116a90c5-bc89-4b1c-bbc0-63ba432ce55e\",\"type\":\"WheelZoomTool\"},{\"attributes\":{\"below\":[{\"id\":\"a5c24d4a-79e8-4be2-89d2-9eed70a7eb1a\",\"type\":\"CategoricalAxis\"}],\"left\":[{\"id\":\"4476cd8a-0e68-4e2f-b91e-52ad0ae4e1b0\",\"type\":\"CategoricalAxis\"}],\"plot_height\":900,\"renderers\":[{\"id\":\"ea6be5da-bd60-466d-8b1b-fbba8a449afe\",\"type\":\"BoxAnnotation\"},{\"id\":\"b013472e-b752-4155-880d-64103e8ea981\",\"type\":\"GlyphRenderer\"},{\"id\":\"9311c6b9-6301-4b38-9fcf-49d8e53eb462\",\"type\":\"GlyphRenderer\"},{\"id\":\"48ebe63d-0b41-4d98-ac41-f885b84ea7fe\",\"type\":\"Legend\"},{\"id\":\"a5c24d4a-79e8-4be2-89d2-9eed70a7eb1a\",\"type\":\"CategoricalAxis\"},{\"id\":\"4476cd8a-0e68-4e2f-b91e-52ad0ae4e1b0\",\"type\":\"CategoricalAxis\"}],\"title\":{\"id\":\"49139f00-cb91-4cde-a97b-a2030cd1eb02\",\"type\":\"Title\"},\"tool_events\":{\"id\":\"b5e01eba-e37d-4add-a884-1e61245ddcc0\",\"type\":\"ToolEvents\"},\"toolbar\":{\"id\":\"b7104afb-d4a9-4271-b1dd-4dc96026ca17\",\"type\":\"Toolbar\"},\"width\":900,\"x_mapper_type\":\"auto\",\"x_range\":{\"id\":\"495e0503-62c3-4ca0-ae77-e1ba2da047b0\",\"type\":\"FactorRange\"},\"y_mapper_type\":\"auto\",\"y_range\":{\"id\":\"27af5567-f061-47f6-a3b1-333d8de2af78\",\"type\":\"FactorRange\"}},\"id\":\"a95d229c-f0db-419d-b993-3dc979342261\",\"subtype\":\"Chart\",\"type\":\"Plot\"},{\"attributes\":{},\"id\":\"272510e8-8ddd-4f30-b2ef-cf83455283fe\",\"type\":\"CategoricalTicker\"},{\"attributes\":{},\"id\":\"5e85a18b-0838-4365-b815-7c44f0a2701c\",\"type\":\"CategoricalTicker\"},{\"attributes\":{\"dilate\":true,\"fill_color\":{\"value\":\"#08519c\"},\"height\":{\"units\":\"data\",\"value\":0.95},\"line_color\":{\"value\":\"#08519c\"},\"width\":{\"units\":\"data\",\"value\":0.95},\"x\":{\"field\":\"x\"},\"y\":{\"field\":\"y\"}},\"id\":\"6f69e744-9010-442d-9ee5-3df1076ee644\",\"type\":\"Rect\"},{\"attributes\":{\"items\":[{\"id\":\"514c47a3-9689-4a38-bd48-e733aca24463\",\"type\":\"LegendItem\"},{\"id\":\"10de5f9a-5670-4800-a0da-90d0a1e8e29f\",\"type\":\"LegendItem\"}],\"location\":\"top_left\",\"plot\":{\"id\":\"a95d229c-f0db-419d-b993-3dc979342261\",\"subtype\":\"Chart\",\"type\":\"Plot\"}},\"id\":\"48ebe63d-0b41-4d98-ac41-f885b84ea7fe\",\"type\":\"Legend\"},{\"attributes\":{\"plot\":{\"id\":\"a95d229c-f0db-419d-b993-3dc979342261\",\"subtype\":\"Chart\",\"type\":\"Plot\"}},\"id\":\"c255eacb-37ea-400d-a0f8-90b1c45f2496\",\"type\":\"HelpTool\"},{\"attributes\":{},\"id\":\"498cf958-5c74-485d-a7a8-07a83bab9f31\",\"type\":\"CategoricalTickFormatter\"}],\"root_ids\":[\"a95d229c-f0db-419d-b993-3dc979342261\"]},\"title\":\"Bokeh Application\",\"version\":\"0.12.3\"}};\n",
       "            var render_items = [{\"docid\":\"39e7dd5e-4a1e-4550-90ca-c8d2e1ed9aaa\",\"elementid\":\"acdb8d98-2a1b-43f6-bd80-f13fa36b3af5\",\"modelid\":\"a95d229c-f0db-419d-b993-3dc979342261\"}];\n",
       "            \n",
       "            Bokeh.embed.embed_items(docs_json, render_items);\n",
       "        });\n",
       "      },\n",
       "      function(Bokeh) {\n",
       "      }\n",
       "    ];\n",
       "  \n",
       "    function run_inline_js() {\n",
       "      \n",
       "      if ((window.Bokeh !== undefined) || (force === \"1\")) {\n",
       "        for (var i = 0; i < inline_js.length; i++) {\n",
       "          inline_js[i](window.Bokeh);\n",
       "        }if (force === \"1\") {\n",
       "          display_loaded();\n",
       "        }} else if (Date.now() < window._bokeh_timeout) {\n",
       "        setTimeout(run_inline_js, 100);\n",
       "      } else if (!window._bokeh_failed_load) {\n",
       "        console.log(\"Bokeh: BokehJS failed to load within specified timeout.\");\n",
       "        window._bokeh_failed_load = true;\n",
       "      } else if (!force) {\n",
       "        var cell = $(\"#acdb8d98-2a1b-43f6-bd80-f13fa36b3af5\").parents('.cell').data().cell;\n",
       "        cell.output_area.append_execute_result(NB_LOAD_WARNING)\n",
       "      }\n",
       "  \n",
       "    }\n",
       "  \n",
       "    if (window._bokeh_is_loading === 0) {\n",
       "      console.log(\"Bokeh: BokehJS loaded, going straight to plotting\");\n",
       "      run_inline_js();\n",
       "    } else {\n",
       "      load_libs(js_urls, function() {\n",
       "        console.log(\"Bokeh: BokehJS plotting callback run at\", now());\n",
       "        run_inline_js();\n",
       "      });\n",
       "    }\n",
       "  }(this));\n",
       "</script>"
      ]
     },
     "metadata": {},
     "output_type": "display_data"
    }
   ],
   "source": [
    "show(p)\n"
   ]
  },
  {
   "cell_type": "code",
   "execution_count": 17,
   "metadata": {
    "collapsed": true
   },
   "outputs": [],
   "source": [
    "from data.charts import heatmap_chart_indicador\n"
   ]
  },
  {
   "cell_type": "code",
   "execution_count": 19,
   "metadata": {
    "collapsed": false
   },
   "outputs": [
    {
     "name": "stderr",
     "output_type": "stream",
     "text": [
      "/Users/paulos/.virtualenvs/diplo/lib/python2.7/site-packages/bokeh/util/deprecation.py:33: BokehDeprecationWarning: Because the ``resources`` argument is no longer needed, it is deprecated and no longer has any effect.\n",
      "  warn(message)\n"
     ]
    },
    {
     "data": {
      "text/plain": [
       "{'div': u'\\n<div class=\"bk-root\">\\n    <div class=\"plotdiv\" id=\"e453606d-a7e9-4389-af04-93f67e3c6d29\"></div>\\n</div>',\n",
       " 'script': '\\n<script type=\"text/javascript\">\\n    Bokeh.$(function() {\\n    Bokeh.safely(function() {\\n        var docs_json = {\"48022626-495f-4693-888c-17b65945f3df\":{\"roots\":{\"references\":[{\"attributes\":{\"callback\":null,\"column_names\":[\"y\",\"x\",\"values\"],\"data\":{\"chart_index\":[{\"valor\":\"(328.5, 394]\"}],\"valor\":[\"(328.5, 394]\"],\"values\":[394.0],\"x\":[\"S\\\\u00e3o Paulo\"],\"y\":[\"S\\\\u00e3o Paulo\"]}},\"id\":\"9e4e5145-90d3-406b-a44f-73ae5e1633c0\",\"type\":\"ColumnDataSource\"},{\"attributes\":{\"plot\":{\"id\":\"12dd495b-196d-4d92-843d-8f9db913fe4d\",\"subtype\":\"Chart\",\"type\":\"Plot\"}},\"id\":\"be8b4353-c0a5-410c-b53e-ec36c8aee486\",\"type\":\"HelpTool\"},{\"attributes\":{\"plot\":{\"id\":\"12dd495b-196d-4d92-843d-8f9db913fe4d\",\"subtype\":\"Chart\",\"type\":\"Plot\"}},\"id\":\"2ab5c071-09bc-4e7d-a9b2-9a2f47a2a6aa\",\"type\":\"PanTool\"},{\"attributes\":{},\"id\":\"af42a803-bdd0-4582-bbc4-9db335cd74d6\",\"type\":\"CategoricalTickFormatter\"},{\"attributes\":{\"overlay\":{\"id\":\"e0ca2321-6caa-465a-b958-27bfa3fdd955\",\"type\":\"BoxAnnotation\"},\"plot\":{\"id\":\"12dd495b-196d-4d92-843d-8f9db913fe4d\",\"subtype\":\"Chart\",\"type\":\"Plot\"}},\"id\":\"01b5a7b3-f2c3-4e97-a720-7cd25b55ad64\",\"type\":\"BoxZoomTool\"},{\"attributes\":{\"label\":{\"value\":\"[0.6, 66.5]\"},\"renderers\":[{\"id\":\"36d6e936-a00b-426b-a32d-854617096342\",\"type\":\"GlyphRenderer\"}]},\"id\":\"cf0eea29-9311-45a4-b076-41fe03c3ebc5\",\"type\":\"LegendItem\"},{\"attributes\":{},\"id\":\"3b067ad0-3e39-449b-bec0-61b233618708\",\"type\":\"CategoricalTickFormatter\"},{\"attributes\":{},\"id\":\"7e223296-ffef-4d25-9fc6-15280f7d2b75\",\"type\":\"CategoricalTicker\"},{\"attributes\":{\"callback\":null,\"factors\":[\"Vale do Jurumirim\",\"Norte - Barretos\",\"Cons\\\\u00f3rcios do DRS II\",\"Central do DRS III\",\"Lagos do DRS II\",\"Central do DRS II\",\"Alto do Tiet\\\\u00ea\",\"Rota dos Bandeirantes\",\"Sul - Barretos\",\"Baixada Santista\",\"Centro Oeste do DRS III\",\"Franco da Rocha\",\"Norte do DRS III\",\"Mananciais\",\"Grande ABC\",\"S\\\\u00e3o Paulo\"]},\"id\":\"fbfadc75-8760-44e2-841f-1b054526720a\",\"type\":\"FactorRange\"},{\"attributes\":{\"callback\":null,\"factors\":[\"Polo Cuesta\",\"Norte - Barretos\",\"S\\\\u00e3o Jos\\\\u00e9 do Rio Preto\",\"Alta Sorocabana\",\"Central do DRS III\",\"Votuporanga\",\"Central do DRS II\",\"Sorocaba\",\"Alto do Tiet\\\\u00ea\",\"S\\\\u00e3o Paulo\",\"Rota dos Bandeirantes\",\"Sul - Barretos\",\"Baixada Santista\",\"Alto Vale do Para\\\\u00edba\",\"Jundia\\\\u00ed\",\"Franco da Rocha\",\"Mananciais\",\"Grande ABC\"]},\"id\":\"a2097691-cd10-4b4b-af52-a66832c78aba\",\"type\":\"FactorRange\"},{\"attributes\":{\"plot\":{\"id\":\"12dd495b-196d-4d92-843d-8f9db913fe4d\",\"subtype\":\"Chart\",\"type\":\"Plot\"}},\"id\":\"90f3a3d9-51dc-409e-8e86-c0ebc729b4ae\",\"type\":\"SaveTool\"},{\"attributes\":{\"data_source\":{\"id\":\"9e4e5145-90d3-406b-a44f-73ae5e1633c0\",\"type\":\"ColumnDataSource\"},\"glyph\":{\"id\":\"1f723aa6-64c5-47a7-8a27-7fb8a5bc9ea1\",\"type\":\"Rect\"},\"hover_glyph\":null,\"nonselection_glyph\":null,\"selection_glyph\":null},\"id\":\"76609546-6d33-4636-a097-8113acf0075a\",\"type\":\"GlyphRenderer\"},{\"attributes\":{\"bottom_units\":\"screen\",\"fill_alpha\":{\"value\":0.5},\"fill_color\":{\"value\":\"lightgrey\"},\"left_units\":\"screen\",\"level\":\"overlay\",\"line_alpha\":{\"value\":1.0},\"line_color\":{\"value\":\"black\"},\"line_dash\":[4,4],\"line_width\":{\"value\":2},\"plot\":null,\"render_mode\":\"css\",\"right_units\":\"screen\",\"top_units\":\"screen\"},\"id\":\"e0ca2321-6caa-465a-b958-27bfa3fdd955\",\"type\":\"BoxAnnotation\"},{\"attributes\":{\"axis_label\":\"origem\",\"formatter\":{\"id\":\"af42a803-bdd0-4582-bbc4-9db335cd74d6\",\"type\":\"CategoricalTickFormatter\"},\"major_label_orientation\":0.7853981633974483,\"plot\":{\"id\":\"12dd495b-196d-4d92-843d-8f9db913fe4d\",\"subtype\":\"Chart\",\"type\":\"Plot\"},\"ticker\":{\"id\":\"7e223296-ffef-4d25-9fc6-15280f7d2b75\",\"type\":\"CategoricalTicker\"}},\"id\":\"d9e5d401-751d-4968-a58a-a49cd4a68b4c\",\"type\":\"CategoricalAxis\"},{\"attributes\":{\"active_drag\":\"auto\",\"active_scroll\":\"auto\",\"active_tap\":\"auto\",\"tools\":[{\"id\":\"2ab5c071-09bc-4e7d-a9b2-9a2f47a2a6aa\",\"type\":\"PanTool\"},{\"id\":\"bbc6ae0c-f801-4682-9278-fe3d1d422673\",\"type\":\"WheelZoomTool\"},{\"id\":\"01b5a7b3-f2c3-4e97-a720-7cd25b55ad64\",\"type\":\"BoxZoomTool\"},{\"id\":\"90f3a3d9-51dc-409e-8e86-c0ebc729b4ae\",\"type\":\"SaveTool\"},{\"id\":\"8b7db6a1-9d50-47fb-aa29-2beb1a7f7ddc\",\"type\":\"ResetTool\"},{\"id\":\"be8b4353-c0a5-410c-b53e-ec36c8aee486\",\"type\":\"HelpTool\"}]},\"id\":\"0d964a04-b0c1-47df-a5d5-f76262acf392\",\"type\":\"Toolbar\"},{\"attributes\":{\"callback\":null,\"column_names\":[\"y\",\"x\",\"values\"],\"data\":{\"chart_index\":[{\"valor\":\"[0.6, 66.5]\"},{\"valor\":\"[0.6, 66.5]\"},{\"valor\":\"[0.6, 66.5]\"},{\"valor\":\"[0.6, 66.5]\"},{\"valor\":\"[0.6, 66.5]\"},{\"valor\":\"[0.6, 66.5]\"},{\"valor\":\"[0.6, 66.5]\"},{\"valor\":\"[0.6, 66.5]\"},{\"valor\":\"[0.6, 66.5]\"},{\"valor\":\"[0.6, 66.5]\"},{\"valor\":\"[0.6, 66.5]\"},{\"valor\":\"[0.6, 66.5]\"},{\"valor\":\"[0.6, 66.5]\"},{\"valor\":\"[0.6, 66.5]\"},{\"valor\":\"[0.6, 66.5]\"},{\"valor\":\"[0.6, 66.5]\"},{\"valor\":\"[0.6, 66.5]\"},{\"valor\":\"[0.6, 66.5]\"},{\"valor\":\"[0.6, 66.5]\"},{\"valor\":\"[0.6, 66.5]\"},{\"valor\":\"[0.6, 66.5]\"},{\"valor\":\"[0.6, 66.5]\"},{\"valor\":\"[0.6, 66.5]\"},{\"valor\":\"[0.6, 66.5]\"},{\"valor\":\"[0.6, 66.5]\"},{\"valor\":\"[0.6, 66.5]\"},{\"valor\":\"[0.6, 66.5]\"},{\"valor\":\"[0.6, 66.5]\"},{\"valor\":\"[0.6, 66.5]\"}],\"valor\":[\"[0.6, 66.5]\",\"[0.6, 66.5]\",\"[0.6, 66.5]\",\"[0.6, 66.5]\",\"[0.6, 66.5]\",\"[0.6, 66.5]\",\"[0.6, 66.5]\",\"[0.6, 66.5]\",\"[0.6, 66.5]\",\"[0.6, 66.5]\",\"[0.6, 66.5]\",\"[0.6, 66.5]\",\"[0.6, 66.5]\",\"[0.6, 66.5]\",\"[0.6, 66.5]\",\"[0.6, 66.5]\",\"[0.6, 66.5]\",\"[0.6, 66.5]\",\"[0.6, 66.5]\",\"[0.6, 66.5]\",\"[0.6, 66.5]\",\"[0.6, 66.5]\",\"[0.6, 66.5]\",\"[0.6, 66.5]\",\"[0.6, 66.5]\",\"[0.6, 66.5]\",\"[0.6, 66.5]\",\"[0.6, 66.5]\",\"[0.6, 66.5]\"],\"values\":[7.0,15.0,1.0,1.0,1.0,6.0,1.0,3.0,1.0,1.0,29.0,5.0,51.0,2.0,3.0,48.0,41.0,1.0,5.0,1.0,8.0,6.0,2.0,1.0,2.0,7.0,13.0,2.0,3.0],\"x\":[\"Vale do Jurumirim\",\"Norte - Barretos\",\"Norte - Barretos\",\"Cons\\\\u00f3rcios do DRS II\",\"Cons\\\\u00f3rcios do DRS II\",\"Central do DRS III\",\"Lagos do DRS II\",\"Central do DRS II\",\"Central do DRS II\",\"Alto do Tiet\\\\u00ea\",\"Alto do Tiet\\\\u00ea\",\"Alto do Tiet\\\\u00ea\",\"Rota dos Bandeirantes\",\"Rota dos Bandeirantes\",\"Sul - Barretos\",\"Sul - Barretos\",\"Baixada Santista\",\"Baixada Santista\",\"Baixada Santista\",\"Centro Oeste do DRS III\",\"Franco da Rocha\",\"Franco da Rocha\",\"Franco da Rocha\",\"Norte do DRS III\",\"Mananciais\",\"Mananciais\",\"Grande ABC\",\"S\\\\u00e3o Paulo\",\"S\\\\u00e3o Paulo\"],\"y\":[\"Polo Cuesta\",\"Norte - Barretos\",\"S\\\\u00e3o Jos\\\\u00e9 do Rio Preto\",\"Alta Sorocabana\",\"S\\\\u00e3o Jos\\\\u00e9 do Rio Preto\",\"Central do DRS III\",\"Votuporanga\",\"Central do DRS II\",\"S\\\\u00e3o Jos\\\\u00e9 do Rio Preto\",\"Sorocaba\",\"Alto do Tiet\\\\u00ea\",\"S\\\\u00e3o Paulo\",\"Rota dos Bandeirantes\",\"S\\\\u00e3o Paulo\",\"Norte - Barretos\",\"Sul - Barretos\",\"Baixada Santista\",\"Alto Vale do Para\\\\u00edba\",\"S\\\\u00e3o Paulo\",\"Polo Cuesta\",\"Jundia\\\\u00ed\",\"Franco da Rocha\",\"S\\\\u00e3o Paulo\",\"Central do DRS III\",\"Mananciais\",\"S\\\\u00e3o Paulo\",\"Grande ABC\",\"Alto do Tiet\\\\u00ea\",\"Grande ABC\"]}},\"id\":\"59feca00-0044-4421-ba94-b220281f07e2\",\"type\":\"ColumnDataSource\"},{\"attributes\":{\"dilate\":true,\"fill_color\":{\"value\":\"#3182bd\"},\"height\":{\"units\":\"data\",\"value\":0.95},\"line_color\":{\"value\":\"#3182bd\"},\"width\":{\"units\":\"data\",\"value\":0.95},\"x\":{\"field\":\"x\"},\"y\":{\"field\":\"y\"}},\"id\":\"f6cf3c32-09bb-4fe3-b732-075cced2305d\",\"type\":\"Rect\"},{\"attributes\":{\"plot\":{\"id\":\"12dd495b-196d-4d92-843d-8f9db913fe4d\",\"subtype\":\"Chart\",\"type\":\"Plot\"}},\"id\":\"bbc6ae0c-f801-4682-9278-fe3d1d422673\",\"type\":\"WheelZoomTool\"},{\"attributes\":{\"items\":[{\"id\":\"80d916d5-468b-464c-8f39-47848d1d6c8e\",\"type\":\"LegendItem\"},{\"id\":\"cf0eea29-9311-45a4-b076-41fe03c3ebc5\",\"type\":\"LegendItem\"}],\"location\":\"top_left\",\"plot\":{\"id\":\"12dd495b-196d-4d92-843d-8f9db913fe4d\",\"subtype\":\"Chart\",\"type\":\"Plot\"}},\"id\":\"fabcde4b-6d18-4ce5-886e-66b739d11455\",\"type\":\"Legend\"},{\"attributes\":{\"below\":[{\"id\":\"d9e5d401-751d-4968-a58a-a49cd4a68b4c\",\"type\":\"CategoricalAxis\"}],\"left\":[{\"id\":\"6a9b6449-fda6-4144-a62d-3ace0a45eb98\",\"type\":\"CategoricalAxis\"}],\"plot_height\":1005,\"renderers\":[{\"id\":\"e0ca2321-6caa-465a-b958-27bfa3fdd955\",\"type\":\"BoxAnnotation\"},{\"id\":\"76609546-6d33-4636-a097-8113acf0075a\",\"type\":\"GlyphRenderer\"},{\"id\":\"36d6e936-a00b-426b-a32d-854617096342\",\"type\":\"GlyphRenderer\"},{\"id\":\"fabcde4b-6d18-4ce5-886e-66b739d11455\",\"type\":\"Legend\"},{\"id\":\"d9e5d401-751d-4968-a58a-a49cd4a68b4c\",\"type\":\"CategoricalAxis\"},{\"id\":\"6a9b6449-fda6-4144-a62d-3ace0a45eb98\",\"type\":\"CategoricalAxis\"}],\"title\":{\"id\":\"c3573a90-21cb-4ad6-a677-bfb240b0b4d4\",\"type\":\"Title\"},\"tool_events\":{\"id\":\"397b5e09-3a98-4097-8854-5d36534fc46a\",\"type\":\"ToolEvents\"},\"toolbar\":{\"id\":\"0d964a04-b0c1-47df-a5d5-f76262acf392\",\"type\":\"Toolbar\"},\"width\":1005,\"x_mapper_type\":\"auto\",\"x_range\":{\"id\":\"fbfadc75-8760-44e2-841f-1b054526720a\",\"type\":\"FactorRange\"},\"y_mapper_type\":\"auto\",\"y_range\":{\"id\":\"a2097691-cd10-4b4b-af52-a66832c78aba\",\"type\":\"FactorRange\"}},\"id\":\"12dd495b-196d-4d92-843d-8f9db913fe4d\",\"subtype\":\"Chart\",\"type\":\"Plot\"},{\"attributes\":{\"axis_label\":\"destino\",\"formatter\":{\"id\":\"3b067ad0-3e39-449b-bec0-61b233618708\",\"type\":\"CategoricalTickFormatter\"},\"major_label_orientation\":0.7853981633974483,\"plot\":{\"id\":\"12dd495b-196d-4d92-843d-8f9db913fe4d\",\"subtype\":\"Chart\",\"type\":\"Plot\"},\"ticker\":{\"id\":\"96cb2e82-ea5b-4b98-8494-6bc50ecac66b\",\"type\":\"CategoricalTicker\"}},\"id\":\"6a9b6449-fda6-4144-a62d-3ace0a45eb98\",\"type\":\"CategoricalAxis\"},{\"attributes\":{},\"id\":\"397b5e09-3a98-4097-8854-5d36534fc46a\",\"type\":\"ToolEvents\"},{\"attributes\":{\"plot\":{\"id\":\"12dd495b-196d-4d92-843d-8f9db913fe4d\",\"subtype\":\"Chart\",\"type\":\"Plot\"}},\"id\":\"8b7db6a1-9d50-47fb-aa29-2beb1a7f7ddc\",\"type\":\"ResetTool\"},{\"attributes\":{\"label\":{\"value\":\"(328.5, 394]\"},\"renderers\":[{\"id\":\"76609546-6d33-4636-a097-8113acf0075a\",\"type\":\"GlyphRenderer\"}]},\"id\":\"80d916d5-468b-464c-8f39-47848d1d6c8e\",\"type\":\"LegendItem\"},{\"attributes\":{},\"id\":\"96cb2e82-ea5b-4b98-8494-6bc50ecac66b\",\"type\":\"CategoricalTicker\"},{\"attributes\":{\"plot\":null,\"text\":null},\"id\":\"c3573a90-21cb-4ad6-a677-bfb240b0b4d4\",\"type\":\"Title\"},{\"attributes\":{\"data_source\":{\"id\":\"59feca00-0044-4421-ba94-b220281f07e2\",\"type\":\"ColumnDataSource\"},\"glyph\":{\"id\":\"f6cf3c32-09bb-4fe3-b732-075cced2305d\",\"type\":\"Rect\"},\"hover_glyph\":null,\"nonselection_glyph\":null,\"selection_glyph\":null},\"id\":\"36d6e936-a00b-426b-a32d-854617096342\",\"type\":\"GlyphRenderer\"},{\"attributes\":{\"dilate\":true,\"fill_color\":{\"value\":\"#08519c\"},\"height\":{\"units\":\"data\",\"value\":0.95},\"line_color\":{\"value\":\"#08519c\"},\"width\":{\"units\":\"data\",\"value\":0.95},\"x\":{\"field\":\"x\"},\"y\":{\"field\":\"y\"}},\"id\":\"1f723aa6-64c5-47a7-8a27-7fb8a5bc9ea1\",\"type\":\"Rect\"}],\"root_ids\":[\"12dd495b-196d-4d92-843d-8f9db913fe4d\"]},\"title\":\"Bokeh Application\",\"version\":\"0.12.3\"}};\\n        var render_items = [{\"docid\":\"48022626-495f-4693-888c-17b65945f3df\",\"elementid\":\"e453606d-a7e9-4389-af04-93f67e3c6d29\",\"modelid\":\"12dd495b-196d-4d92-843d-8f9db913fe4d\"}];\\n        \\n        Bokeh.embed.embed_items(docs_json, render_items);\\n    });\\n});\\n</script>'}"
      ]
     },
     "execution_count": 19,
     "metadata": {},
     "output_type": "execute_result"
    }
   ],
   "source": [
    "heatmap_chart_indicador(f)"
   ]
  },
  {
   "cell_type": "code",
   "execution_count": null,
   "metadata": {
    "collapsed": true
   },
   "outputs": [],
   "source": []
  }
 ],
 "metadata": {
  "kernelspec": {
   "display_name": "Python 2",
   "language": "python",
   "name": "python2"
  },
  "language_info": {
   "codemirror_mode": {
    "name": "ipython",
    "version": 2
   },
   "file_extension": ".py",
   "mimetype": "text/x-python",
   "name": "python",
   "nbconvert_exporter": "python",
   "pygments_lexer": "ipython2",
   "version": "2.7.10"
  }
 },
 "nbformat": 4,
 "nbformat_minor": 1
}
