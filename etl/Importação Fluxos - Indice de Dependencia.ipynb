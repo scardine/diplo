{
 "cells": [
  {
   "cell_type": "code",
   "execution_count": 1,
   "metadata": {
    "collapsed": true
   },
   "outputs": [],
   "source": [
    "import sys, os\n",
    "sys.path.append('/Users/paulos/Documents/work/diplo')\n",
    "os.environ['DJANGO_SETTINGS_MODULE'] = 'diplo.settings'\n",
    "\n",
    "from django.core.wsgi import get_wsgi_application\n",
    "application = get_wsgi_application()\n",
    "\n",
    "from data.models import *"
   ]
  },
  {
   "cell_type": "code",
   "execution_count": 2,
   "metadata": {
    "collapsed": true
   },
   "outputs": [],
   "source": [
    "import pandas as pd\n"
   ]
  },
  {
   "cell_type": "code",
   "execution_count": 3,
   "metadata": {
    "collapsed": false
   },
   "outputs": [],
   "source": [
    "wb = pd.ExcelFile(\"Base Projeto BID - Fluxos (Indice de Dependencia) - com cortes.xlsx\")"
   ]
  },
  {
   "cell_type": "code",
   "execution_count": 4,
   "metadata": {
    "collapsed": true
   },
   "outputs": [],
   "source": [
    "df1 = wb.parse(1)"
   ]
  },
  {
   "cell_type": "code",
   "execution_count": 5,
   "metadata": {
    "collapsed": false
   },
   "outputs": [
    {
     "data": {
      "text/plain": [
       "[u'SIHTotal - Total',\n",
       " u'SIHTotal - Cl\\xednica M\\xe9dica',\n",
       " u'SIHTotal - Cl\\xednica Pedi\\xe1trica',\n",
       " u'SIHTotal - Cl\\xednica Obst\\xe9trica',\n",
       " u'SIHTotal - Cl\\xednica Cir\\xfarg Ped',\n",
       " u'SIHTotal - Cl\\xednica Cir\\xfarg Ad',\n",
       " u'SIHTotal - Psiquiatria',\n",
       " u'SIHTotal - Cr\\xf4nicos',\n",
       " u'SIHTotal - Di\\xe1rias de UTI',\n",
       " u'SIHM\\xe9dComp - Total',\n",
       " u'SIHM\\xe9dComp - Cl\\xednica M\\xe9dica',\n",
       " u'SIHM\\xe9dComp - Cl\\xednica Pedi\\xe1trica',\n",
       " u'SIHM\\xe9dComp - Cl\\xednica Obst\\xe9trica',\n",
       " u'SIHM\\xe9dComp - Cl\\xednica Cir\\xfarg Ped',\n",
       " u'SIHM\\xe9dComp - Cl\\xednica Cir\\xfarg Ad',\n",
       " u'SIHM\\xe9dComp - Psiquiatria',\n",
       " u'SIHM\\xe9dComp - Cr\\xf4nicos',\n",
       " u'SIHM\\xe9dComp - Di\\xe1rias de UTI',\n",
       " u'SIHAltComp - Total',\n",
       " u'SIHAltComp - Cl\\xednica M\\xe9dica',\n",
       " u'SIHAltComp - Cl\\xednica Pedi\\xe1trica',\n",
       " u'SIHAltComp - Cl\\xednica Cir\\xfarg Ped',\n",
       " u'SIHAltComp - Cl\\xednica Cir\\xfarg Ad',\n",
       " u'SIHAltComp - Di\\xe1rias de UTI']"
      ]
     },
     "execution_count": 5,
     "metadata": {},
     "output_type": "execute_result"
    }
   ],
   "source": [
    "wb.sheet_names\n"
   ]
  },
  {
   "cell_type": "code",
   "execution_count": 6,
   "metadata": {
    "collapsed": false
   },
   "outputs": [
    {
     "ename": "NameError",
     "evalue": "name 'df2' is not defined",
     "output_type": "error",
     "traceback": [
      "\u001b[0;31m---------------------------------------------------------------------------\u001b[0m",
      "\u001b[0;31mNameError\u001b[0m                                 Traceback (most recent call last)",
      "\u001b[0;32m<ipython-input-6-d4a59695a920>\u001b[0m in \u001b[0;36m<module>\u001b[0;34m()\u001b[0m\n\u001b[0;32m----> 1\u001b[0;31m \u001b[0mdf2\u001b[0m\u001b[0;34m\u001b[0m\u001b[0m\n\u001b[0m",
      "\u001b[0;31mNameError\u001b[0m: name 'df2' is not defined"
     ]
    }
   ],
   "source": [
    "df2"
   ]
  },
  {
   "cell_type": "code",
   "execution_count": 28,
   "metadata": {
    "collapsed": false
   },
   "outputs": [],
   "source": [
    "cats = {\n",
    "    u'SIHTotal': 71,\n",
    "    u'SIHMédComp': 72,\n",
    "    u'SIHAltComp': 73,    \n",
    "}\n",
    "for wsn in wb.sheet_names:\n",
    "    cat, nom = wsn.split(' - ')\n",
    "    cat = Categoria.objects.get(pk=cats[cat])\n",
    "    try:\n",
    "        ind = cat.indicador_set.get(nome=nom)\n",
    "    except Indicador.DoesNotExist:\n",
    "        ind = Indicador.objects.create(\n",
    "            categoria=cat,\n",
    "            nome=nom,\n",
    "            periodo=2016,\n",
    "            formato='%0.2f',\n",
    "            tipo='ordinal',\n",
    "            tema_id=16\n",
    "        )\n",
    "    df = wb.parse(wsn)\n",
    "    Dado.objects.filter(indicador=ind).delete()\n",
    "    for row in df.iterrows():\n",
    "        Dado.objects.create(\n",
    "            indicador=ind,\n",
    "            ano=2016,\n",
    "            localidade=Localidade.objects.get(codigo=row[1][u'Código da região de saúde (fevereiro de 2015) - BID'], tipo='regsau'),\n",
    "            valor=row[1][u'Índice de Dependência']\n",
    "        )\n",
    "\n",
    "        \n",
    "\n",
    "    "
   ]
  },
  {
   "cell_type": "code",
   "execution_count": 27,
   "metadata": {
    "collapsed": false
   },
   "outputs": [
    {
     "data": {
      "text/plain": [
       "35011"
      ]
     },
     "execution_count": 27,
     "metadata": {},
     "output_type": "execute_result"
    }
   ],
   "source": [
    "row[1][u'Código da região de saúde (fevereiro de 2015) - BID']"
   ]
  },
  {
   "cell_type": "code",
   "execution_count": null,
   "metadata": {
    "collapsed": false
   },
   "outputs": [],
   "source": [
    "cols = dict([(col + '.1', cod) for col, cod in df1[[2,1]].values.tolist()])"
   ]
  },
  {
   "cell_type": "code",
   "execution_count": null,
   "metadata": {
    "collapsed": false
   },
   "outputs": [],
   "source": [
    "for n, row in df2.iterrows():\n",
    "    for col in cols:\n",
    "        DadoFluxo.objects.create(indicador=i, origem=Localidade.objects.get(codigo=row[1]), destino=Localidade.objects.get(codigo=cols[col]), ano=2015, valor=row[col])"
   ]
  },
  {
   "cell_type": "code",
   "execution_count": null,
   "metadata": {
    "collapsed": false
   },
   "outputs": [],
   "source": [
    "row[1]"
   ]
  },
  {
   "cell_type": "code",
   "execution_count": null,
   "metadata": {
    "collapsed": false
   },
   "outputs": [],
   "source": [
    "Localidade.objects.get(codigo=35174)"
   ]
  },
  {
   "cell_type": "code",
   "execution_count": 23,
   "metadata": {
    "collapsed": false
   },
   "outputs": [
    {
     "data": {
      "text/plain": [
       "['indicador_id', 'ano', '_state', 'localidade_id', 'valor', 'id']"
      ]
     },
     "execution_count": 23,
     "metadata": {},
     "output_type": "execute_result"
    }
   ],
   "source": [
    "Dado.objects.first().__dict__.keys()"
   ]
  },
  {
   "cell_type": "code",
   "execution_count": null,
   "metadata": {
    "collapsed": true
   },
   "outputs": [],
   "source": []
  }
 ],
 "metadata": {
  "kernelspec": {
   "display_name": "Python 2",
   "language": "python",
   "name": "python2"
  },
  "language_info": {
   "codemirror_mode": {
    "name": "ipython",
    "version": 2
   },
   "file_extension": ".py",
   "mimetype": "text/x-python",
   "name": "python",
   "nbconvert_exporter": "python",
   "pygments_lexer": "ipython2",
   "version": "2.7.10"
  }
 },
 "nbformat": 4,
 "nbformat_minor": 1
}
